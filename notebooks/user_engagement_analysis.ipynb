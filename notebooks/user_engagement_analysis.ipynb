{
 "cells": [
  {
   "cell_type": "markdown",
   "metadata": {},
   "source": [
    "### User Engagement Analysis\n"
   ]
  },
  {
   "cell_type": "code",
   "execution_count": 1,
   "metadata": {},
   "outputs": [],
   "source": [
    "from sklearn.cluster import KMeans\n",
    "import seaborn as sns\n",
    "import matplotlib.pyplot as plt\n",
    "import pandas as pd\n",
    "import os\n",
    "# os.chdir('..')\n"
   ]
  },
  {
   "cell_type": "code",
   "execution_count": 2,
   "metadata": {},
   "outputs": [],
   "source": [
    "import sys\n",
    "sys.path.append('..')"
   ]
  },
  {
   "cell_type": "code",
   "execution_count": 7,
   "metadata": {},
   "outputs": [],
   "source": [
    "xdr_data = pd.read_csv(\"../data/processed/xdr_data1.csv\")\n",
    "final_df = pd.read_csv(\"../data/processed/final_df.csv\")"
   ]
  },
  {
   "cell_type": "markdown",
   "metadata": {},
   "source": [
    "#### Aggregate metrics per customer\n"
   ]
  },
  {
   "cell_type": "code",
   "execution_count": 8,
   "metadata": {},
   "outputs": [],
   "source": [
    "from scripts.tellcoAnalysis import analyze_user_engagement\n",
    "aggregated_data_user_engagement, cluster_stats_user_engagement, top_10_most_engaged_users,normalized_data,engagement_clusters = analyze_user_engagement(xdr_data)"
   ]
  },
  {
   "cell_type": "code",
   "execution_count": 9,
   "metadata": {},
   "outputs": [
    {
     "data": {
      "text/html": [
       "<div>\n",
       "<style scoped>\n",
       "    .dataframe tbody tr th:only-of-type {\n",
       "        vertical-align: middle;\n",
       "    }\n",
       "\n",
       "    .dataframe tbody tr th {\n",
       "        vertical-align: top;\n",
       "    }\n",
       "\n",
       "    .dataframe thead th {\n",
       "        text-align: right;\n",
       "    }\n",
       "</style>\n",
       "<table border=\"1\" class=\"dataframe\">\n",
       "  <thead>\n",
       "    <tr style=\"text-align: right;\">\n",
       "      <th></th>\n",
       "      <th>Bearer Id</th>\n",
       "      <th>Dur. (ms)</th>\n",
       "      <th>Total_DL_+_UL</th>\n",
       "      <th>clusters</th>\n",
       "    </tr>\n",
       "    <tr>\n",
       "      <th>MSISDN/Number</th>\n",
       "      <th></th>\n",
       "      <th></th>\n",
       "      <th></th>\n",
       "      <th></th>\n",
       "    </tr>\n",
       "  </thead>\n",
       "  <tbody>\n",
       "    <tr>\n",
       "      <th>33601.675528</th>\n",
       "      <td>3.603373e+15</td>\n",
       "      <td>34112179.0</td>\n",
       "      <td>182951.226284</td>\n",
       "      <td>2</td>\n",
       "    </tr>\n",
       "    <tr>\n",
       "      <th>33601.712373</th>\n",
       "      <td>1.311448e+13</td>\n",
       "      <td>38503.0</td>\n",
       "      <td>339.616950</td>\n",
       "      <td>0</td>\n",
       "    </tr>\n",
       "    <tr>\n",
       "      <th>33601.712551</th>\n",
       "      <td>6.917538e+12</td>\n",
       "      <td>52478.0</td>\n",
       "      <td>900.610946</td>\n",
       "      <td>0</td>\n",
       "    </tr>\n",
       "    <tr>\n",
       "      <th>33601.713789</th>\n",
       "      <td>1.462771e+13</td>\n",
       "      <td>120298.0</td>\n",
       "      <td>1587.337140</td>\n",
       "      <td>0</td>\n",
       "    </tr>\n",
       "    <tr>\n",
       "      <th>33601.714799</th>\n",
       "      <td>1.311448e+13</td>\n",
       "      <td>176022.0</td>\n",
       "      <td>178.330679</td>\n",
       "      <td>0</td>\n",
       "    </tr>\n",
       "  </tbody>\n",
       "</table>\n",
       "</div>"
      ],
      "text/plain": [
       "                  Bearer Id   Dur. (ms)  Total_DL_+_UL  clusters\n",
       "MSISDN/Number                                                   \n",
       "33601.675528   3.603373e+15  34112179.0  182951.226284         2\n",
       "33601.712373   1.311448e+13     38503.0     339.616950         0\n",
       "33601.712551   6.917538e+12     52478.0     900.610946         0\n",
       "33601.713789   1.462771e+13    120298.0    1587.337140         0\n",
       "33601.714799   1.311448e+13    176022.0     178.330679         0"
      ]
     },
     "execution_count": 9,
     "metadata": {},
     "output_type": "execute_result"
    }
   ],
   "source": [
    "aggregated_data_user_engagement.head()\n"
   ]
  },
  {
   "cell_type": "markdown",
   "metadata": {},
   "source": [
    "#### Top 10 most engaged users per application\n"
   ]
  },
  {
   "cell_type": "code",
   "execution_count": 10,
   "metadata": {},
   "outputs": [
    {
     "name": "stdout",
     "output_type": "stream",
     "text": [
      "MSISDN/Number  Google DL (Bytes)  Google UL (Bytes)  Email DL (Bytes)  Email UL (Bytes)  Youtube UL (Bytes)  Youtube DL (Bytes)  Netflix DL (Bytes)  Netflix UL (Bytes)  Gaming DL (Bytes)  Gaming UL (Bytes)  Other UL (Bytes)\n",
      "33674.923685   10.979931          3.515773           2.432643          0.631541          21.501662           11.302577           12.156548           19.682682           840.912532         15.082146          14.698593           953.624448\n",
      "33664.689058   11.183808          3.873619           1.601413          0.933002          16.468684           13.064265           17.807619           21.802237           842.772173         8.811089           11.232779           952.641334\n",
      "33668.551754   9.458813           1.516648           2.004712          0.342808          21.646758           23.101979           22.409092           8.244742            835.939605         10.097405          15.894385           952.307464\n",
      "33658.809959   6.073984           1.061234           3.176224          0.111176          4.429624            22.735588           18.999710           19.348623           841.560827         16.023276          15.328974           951.775502\n",
      "33667.831589   8.797925           3.721852           0.928792          0.145034          19.568844           21.820381           18.741016           18.385468           838.417563         11.235692          7.764030            950.760661\n",
      "33610.833729   7.106759           3.216119           3.474665          0.512770          12.048691           19.150108           22.358171           21.158349           837.640479         15.285865          7.358383            949.987157\n",
      "33606.668722   9.405972           2.705707           3.116080          0.584196          20.168948           16.918153           23.223614           18.802381           835.701102         3.737588           13.414112           949.598255\n",
      "33662.609388   9.804424           0.022716           0.799077          0.131682          19.084924           18.592639           23.233141           14.751362           837.075390         11.160762          11.753179           949.292055\n",
      "33662.049032   2.091676           3.674732           3.483020          0.325270          21.378628           14.497161           21.183463           12.963125           842.379636         12.229194          14.439321           949.172538\n",
      "33668.533742   10.150466          1.008448           3.542993          0.476556          8.190391            19.626816           21.483435           16.568066           839.634183         14.287209          10.215461           948.809765\n",
      "Name: Total_DL_+_UL, dtype: float64\n"
     ]
    }
   ],
   "source": [
    "print(top_10_most_engaged_users)\n"
   ]
  },
  {
   "cell_type": "markdown",
   "metadata": {},
   "source": [
    "#### K-means clustering\n"
   ]
  },
  {
   "cell_type": "markdown",
   "metadata": {},
   "source": [
    "#### Calculate cluster metrics\n"
   ]
  },
  {
   "cell_type": "code",
   "execution_count": 11,
   "metadata": {},
   "outputs": [
    {
     "data": {
      "text/html": [
       "<div>\n",
       "<style scoped>\n",
       "    .dataframe tbody tr th:only-of-type {\n",
       "        vertical-align: middle;\n",
       "    }\n",
       "\n",
       "    .dataframe tbody tr th {\n",
       "        vertical-align: top;\n",
       "    }\n",
       "\n",
       "    .dataframe thead tr th {\n",
       "        text-align: left;\n",
       "    }\n",
       "\n",
       "    .dataframe thead tr:last-of-type th {\n",
       "        text-align: right;\n",
       "    }\n",
       "</style>\n",
       "<table border=\"1\" class=\"dataframe\">\n",
       "  <thead>\n",
       "    <tr>\n",
       "      <th></th>\n",
       "      <th colspan=\"4\" halign=\"left\">Bearer Id</th>\n",
       "      <th colspan=\"4\" halign=\"left\">Dur. (ms)</th>\n",
       "      <th colspan=\"4\" halign=\"left\">Total_DL_+_UL</th>\n",
       "    </tr>\n",
       "    <tr>\n",
       "      <th></th>\n",
       "      <th>min</th>\n",
       "      <th>max</th>\n",
       "      <th>mean</th>\n",
       "      <th>sum</th>\n",
       "      <th>min</th>\n",
       "      <th>max</th>\n",
       "      <th>mean</th>\n",
       "      <th>sum</th>\n",
       "      <th>min</th>\n",
       "      <th>max</th>\n",
       "      <th>mean</th>\n",
       "      <th>sum</th>\n",
       "    </tr>\n",
       "    <tr>\n",
       "      <th>clusters</th>\n",
       "      <th></th>\n",
       "      <th></th>\n",
       "      <th></th>\n",
       "      <th></th>\n",
       "      <th></th>\n",
       "      <th></th>\n",
       "      <th></th>\n",
       "      <th></th>\n",
       "      <th></th>\n",
       "      <th></th>\n",
       "      <th></th>\n",
       "      <th></th>\n",
       "    </tr>\n",
       "  </thead>\n",
       "  <tbody>\n",
       "    <tr>\n",
       "      <th>0</th>\n",
       "      <td>6.917538e+12</td>\n",
       "      <td>2.217933e+14</td>\n",
       "      <td>1.410195e+13</td>\n",
       "      <td>1.269684e+18</td>\n",
       "      <td>7.146000e+03</td>\n",
       "      <td>4.135260e+06</td>\n",
       "      <td>1.384787e+05</td>\n",
       "      <td>1.246807e+10</td>\n",
       "      <td>3.324901e+01</td>\n",
       "      <td>8.846226e+03</td>\n",
       "      <td>6.903631e+02</td>\n",
       "      <td>6.215753e+07</td>\n",
       "    </tr>\n",
       "    <tr>\n",
       "      <th>1</th>\n",
       "      <td>2.475544e+17</td>\n",
       "      <td>2.475544e+17</td>\n",
       "      <td>2.475544e+17</td>\n",
       "      <td>2.475544e+17</td>\n",
       "      <td>2.433741e+09</td>\n",
       "      <td>2.433741e+09</td>\n",
       "      <td>2.433741e+09</td>\n",
       "      <td>2.433741e+09</td>\n",
       "      <td>1.202471e+07</td>\n",
       "      <td>1.202471e+07</td>\n",
       "      <td>1.202471e+07</td>\n",
       "      <td>1.202471e+07</td>\n",
       "    </tr>\n",
       "    <tr>\n",
       "      <th>2</th>\n",
       "      <td>3.603373e+15</td>\n",
       "      <td>3.603373e+15</td>\n",
       "      <td>3.603373e+15</td>\n",
       "      <td>3.603373e+15</td>\n",
       "      <td>3.411218e+07</td>\n",
       "      <td>3.411218e+07</td>\n",
       "      <td>3.411218e+07</td>\n",
       "      <td>3.411218e+07</td>\n",
       "      <td>1.829512e+05</td>\n",
       "      <td>1.829512e+05</td>\n",
       "      <td>1.829512e+05</td>\n",
       "      <td>1.829512e+05</td>\n",
       "    </tr>\n",
       "  </tbody>\n",
       "</table>\n",
       "</div>"
      ],
      "text/plain": [
       "             Bearer Id                                            \\\n",
       "                   min           max          mean           sum   \n",
       "clusters                                                           \n",
       "0         6.917538e+12  2.217933e+14  1.410195e+13  1.269684e+18   \n",
       "1         2.475544e+17  2.475544e+17  2.475544e+17  2.475544e+17   \n",
       "2         3.603373e+15  3.603373e+15  3.603373e+15  3.603373e+15   \n",
       "\n",
       "             Dur. (ms)                                            \\\n",
       "                   min           max          mean           sum   \n",
       "clusters                                                           \n",
       "0         7.146000e+03  4.135260e+06  1.384787e+05  1.246807e+10   \n",
       "1         2.433741e+09  2.433741e+09  2.433741e+09  2.433741e+09   \n",
       "2         3.411218e+07  3.411218e+07  3.411218e+07  3.411218e+07   \n",
       "\n",
       "         Total_DL_+_UL                                            \n",
       "                   min           max          mean           sum  \n",
       "clusters                                                          \n",
       "0         3.324901e+01  8.846226e+03  6.903631e+02  6.215753e+07  \n",
       "1         1.202471e+07  1.202471e+07  1.202471e+07  1.202471e+07  \n",
       "2         1.829512e+05  1.829512e+05  1.829512e+05  1.829512e+05  "
      ]
     },
     "execution_count": 11,
     "metadata": {},
     "output_type": "execute_result"
    }
   ],
   "source": [
    "cluster_stats_user_engagement.head()\n"
   ]
  },
  {
   "cell_type": "code",
   "execution_count": 12,
   "metadata": {},
   "outputs": [],
   "source": [
    "cluster_one = aggregated_data_user_engagement[aggregated_data_user_engagement['clusters']==0]\n",
    "cluster_two = aggregated_data_user_engagement[aggregated_data_user_engagement['clusters']==1]\n",
    "cluster_three = aggregated_data_user_engagement[aggregated_data_user_engagement['clusters']==2]"
   ]
  },
  {
   "cell_type": "code",
   "execution_count": 13,
   "metadata": {},
   "outputs": [],
   "source": [
    "# Find top 10 customers per engagement metric\n",
    "top_frequency = aggregated_data_user_engagement['Bearer Id'].nlargest(10)\n",
    "top_duration = aggregated_data_user_engagement['Dur. (ms)'].nlargest(10)\n",
    "top_traffic = aggregated_data_user_engagement['Total_DL_+_UL'].nlargest(10)"
   ]
  },
  {
   "cell_type": "markdown",
   "metadata": {},
   "source": [
    "#### Top Ten sessions frequencies\n"
   ]
  },
  {
   "cell_type": "code",
   "execution_count": 14,
   "metadata": {},
   "outputs": [
    {
     "name": "stdout",
     "output_type": "stream",
     "text": [
      "MSISDN/Number\n",
      "33734.564203    2.475544e+17\n",
      "33601.675528    3.603373e+15\n",
      "33625.779332    2.217933e+14\n",
      "33659.725664    2.088229e+14\n",
      "33675.877202    1.960687e+14\n",
      "33667.163239    1.695515e+14\n",
      "33627.080969    1.568694e+14\n",
      "33659.359429    1.435387e+14\n",
      "33669.068942    1.434667e+14\n",
      "33626.320676    1.315773e+14\n",
      "Name: Bearer Id, dtype: float64\n"
     ]
    }
   ],
   "source": [
    "print(top_frequency)\n"
   ]
  },
  {
   "cell_type": "code",
   "execution_count": 15,
   "metadata": {},
   "outputs": [
    {
     "data": {
      "text/plain": [
       "<Axes: xlabel='MSISDN/Number'>"
      ]
     },
     "execution_count": 15,
     "metadata": {},
     "output_type": "execute_result"
    },
    {
     "data": {
      "image/png": "[encoded data removed]",
      "text/plain": [
       "<Figure size 640x480 with 1 Axes>"
      ]
     },
     "metadata": {},
     "output_type": "display_data"
    }
   ],
   "source": [
    "top_frequency.plot(kind='bar')\n"
   ]
  },
  {
   "cell_type": "markdown",
   "metadata": {},
   "source": [
    "#### Top ten session durations\n"
   ]
  },
  {
   "cell_type": "code",
   "execution_count": 16,
   "metadata": {},
   "outputs": [
    {
     "name": "stdout",
     "output_type": "stream",
     "text": [
      "MSISDN/Number\n",
      "33734.564203    2.433741e+09\n",
      "33601.675528    3.411218e+07\n",
      "33625.779332    4.135260e+06\n",
      "33626.320676    4.004601e+06\n",
      "33614.892860    3.897579e+06\n",
      "33659.725664    3.490608e+06\n",
      "33675.877202    3.330261e+06\n",
      "33667.163239    3.111859e+06\n",
      "33603.127838    2.853379e+06\n",
      "33627.080969    2.780470e+06\n",
      "Name: Dur. (ms), dtype: float64\n"
     ]
    }
   ],
   "source": [
    "print(top_duration)\n"
   ]
  },
  {
   "cell_type": "code",
   "execution_count": 17,
   "metadata": {},
   "outputs": [
    {
     "data": {
      "text/plain": [
       "<Axes: xlabel='MSISDN/Number'>"
      ]
     },
     "execution_count": 17,
     "metadata": {},
     "output_type": "execute_result"
    },
    {
     "data": {
      "image/png": "[encoded data removed]",
      "text/plain": [
       "<Figure size 640x480 with 1 Axes>"
      ]
     },
     "metadata": {},
     "output_type": "display_data"
    }
   ],
   "source": [
    "top_duration.plot(kind='bar')"
   ]
  },
  {
   "cell_type": "markdown",
   "metadata": {},
   "source": [
    "#### Top the total traffics\n"
   ]
  },
  {
   "cell_type": "code",
   "execution_count": 18,
   "metadata": {},
   "outputs": [
    {
     "name": "stdout",
     "output_type": "stream",
     "text": [
      "MSISDN/Number\n",
      "33734.564203    1.202471e+07\n",
      "33601.675528    1.829512e+05\n",
      "33614.892860    8.846226e+03\n",
      "33625.779332    8.499621e+03\n",
      "33626.320676    7.971167e+03\n",
      "33675.877202    7.891111e+03\n",
      "33659.725664    7.705863e+03\n",
      "33666.464084    7.308501e+03\n",
      "33664.712899    6.872347e+03\n",
      "33698.792269    6.540899e+03\n",
      "Name: Total_DL_+_UL, dtype: float64\n"
     ]
    }
   ],
   "source": [
    "print(top_traffic)\n"
   ]
  },
  {
   "cell_type": "code",
   "execution_count": 19,
   "metadata": {},
   "outputs": [
    {
     "data": {
      "text/plain": [
       "<Axes: xlabel='MSISDN/Number'>"
      ]
     },
     "execution_count": 19,
     "metadata": {},
     "output_type": "execute_result"
    },
    {
     "data": {
      "image/png": "[encoded data removed]",
      "text/plain": [
       "<Figure size 640x480 with 1 Axes>"
      ]
     },
     "metadata": {},
     "output_type": "display_data"
    }
   ],
   "source": [
    "top_traffic.plot(kind='bar')"
   ]
  },
  {
   "cell_type": "markdown",
   "metadata": {},
   "source": [
    "#### Find most used applications\n"
   ]
  },
  {
   "cell_type": "code",
   "execution_count": 20,
   "metadata": {},
   "outputs": [],
   "source": [
    "top_three_apps = xdr_data[['Google DL (Bytes)','Google UL (Bytes)','Email DL (Bytes)','Email UL (Bytes)','Youtube UL (Bytes)','Youtube DL (Bytes)', 'Netflix DL (Bytes)','Netflix UL (Bytes)','Gaming DL (Bytes)','Gaming UL (Bytes)','Other UL (Bytes)']].sum().nlargest(3)\n"
   ]
  },
  {
   "cell_type": "markdown",
   "metadata": {},
   "source": [
    "#### Top three most used applications\n"
   ]
  },
  {
   "cell_type": "code",
   "execution_count": 21,
   "metadata": {},
   "outputs": [
    {
     "data": {
      "text/plain": [
       "<Axes: >"
      ]
     },
     "execution_count": 21,
     "metadata": {},
     "output_type": "execute_result"
    },
    {
     "data": {
      "image/png": "[encoded data removed]",
      "text/plain": [
       "<Figure size 640x480 with 1 Axes>"
      ]
     },
     "metadata": {},
     "output_type": "display_data"
    }
   ],
   "source": [
    "top_three_apps.plot(kind='bar')\n"
   ]
  },
  {
   "cell_type": "markdown",
   "metadata": {},
   "source": [
    "#### First cluster of user engagement\n"
   ]
  },
  {
   "cell_type": "code",
   "execution_count": 22,
   "metadata": {},
   "outputs": [
    {
     "name": "stdout",
     "output_type": "stream",
     "text": [
      "                  Bearer Id  Dur. (ms)  Total_DL_+_UL  clusters\n",
      "MSISDN/Number                                                  \n",
      "33601.712373   1.311448e+13    38503.0     339.616950         0\n",
      "33601.712551   6.917538e+12    52478.0     900.610946         0\n",
      "33601.713789   1.462771e+13   120298.0    1587.337140         0\n",
      "33601.714799   1.311448e+13   176022.0     178.330679         0\n",
      "33601.717042   7.349883e+12   127918.0     334.691441         0\n",
      "...                     ...        ...            ...       ...\n",
      "33699.998818   7.349883e+12   244912.0     336.433505         0\n",
      "33699.999343   7.349883e+12   171672.0     827.412852         0\n",
      "33699.999410   6.917538e+12     9498.0     584.400944         0\n",
      "33699.999495   7.277826e+12    66045.0     481.066420         0\n",
      "33699.999608   1.311448e+13   214209.0     394.753492         0\n",
      "\n",
      "[90036 rows x 4 columns]\n"
     ]
    }
   ],
   "source": [
    "print(cluster_one)\n"
   ]
  },
  {
   "cell_type": "markdown",
   "metadata": {},
   "source": [
    "#### Second cluster of user engagement\n"
   ]
  },
  {
   "cell_type": "code",
   "execution_count": 23,
   "metadata": {},
   "outputs": [
    {
     "name": "stdout",
     "output_type": "stream",
     "text": [
      "                  Bearer Id     Dur. (ms)  Total_DL_+_UL  clusters\n",
      "MSISDN/Number                                                     \n",
      "33734.564203   2.475544e+17  2.433741e+09   1.202471e+07         1\n"
     ]
    }
   ],
   "source": [
    "print(cluster_two)\n"
   ]
  },
  {
   "cell_type": "code",
   "execution_count": null,
   "metadata": {},
   "outputs": [],
   "source": []
  }
 ],
 "metadata": {
  "kernelspec": {
   "display_name": ".venv",
   "language": "python",
   "name": "python3"
  },
  "language_info": {
   "codemirror_mode": {
    "name": "ipython",
    "version": 3
   },
   "file_extension": ".py",
   "mimetype": "text/x-python",
   "name": "python",
   "nbconvert_exporter": "python",
   "pygments_lexer": "ipython3",
   "version": "3.12.2"
  }
 },
 "nbformat": 4,
 "nbformat_minor": 2
}
