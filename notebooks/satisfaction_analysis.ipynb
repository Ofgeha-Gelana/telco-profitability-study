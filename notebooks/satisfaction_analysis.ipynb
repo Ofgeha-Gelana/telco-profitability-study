{
 "cells": [
  {
   "cell_type": "markdown",
   "metadata": {},
   "source": [
    "### Satisfaction Analysis\n"
   ]
  },
  {
   "cell_type": "code",
   "execution_count": 1,
   "metadata": {},
   "outputs": [],
   "source": [
    "from sklearn.cluster import KMeans\n",
    "import seaborn as sns\n",
    "import matplotlib.pyplot as plt\n",
    "import pandas as pd\n",
    "import os\n",
    "# os.chdir('..')\n"
   ]
  },
  {
   "cell_type": "code",
   "execution_count": 2,
   "metadata": {},
   "outputs": [],
   "source": [
    "import sys\n",
    "sys.path.append('..')"
   ]
  },
  {
   "cell_type": "markdown",
   "metadata": {},
   "source": [
    "#### Assign engagement and experience scores to users\n"
   ]
  },
  {
   "cell_type": "code",
   "execution_count": 3,
   "metadata": {},
   "outputs": [],
   "source": [
    "from scripts.tellcoAnalysis import assign_engagement_experience_scores"
   ]
  },
  {
   "cell_type": "code",
   "execution_count": 5,
   "metadata": {},
   "outputs": [],
   "source": [
    "aggregated_data_user_engagement = pd.read_csv(\"../data/processed/aggregated_data_user_engagement.csv\")\n",
    "aggregated_average_experience_analysis = pd.read_csv(\"../data/processed/aggregated_average_experience_analysis.csv\")\n",
    "xdr_data = pd.read_csv(\"../data/processed/xdr_data1.csv\")"
   ]
  },
  {
   "cell_type": "code",
   "execution_count": 6,
   "metadata": {},
   "outputs": [],
   "source": [
    "data_with_scores = assign_engagement_experience_scores(xdr_data, aggregated_data_user_engagement,aggregated_average_experience_analysis)\n"
   ]
  },
  {
   "cell_type": "markdown",
   "metadata": {},
   "source": [
    "#### Calculate a satisfaction score based on the average of engagement and experience scores\n"
   ]
  },
  {
   "cell_type": "code",
   "execution_count": 7,
   "metadata": {},
   "outputs": [],
   "source": [
    "from scripts.tellcoAnalysis import calculate_satisfaction_score, find_top_satisfied_customers\n"
   ]
  },
  {
   "cell_type": "code",
   "execution_count": 8,
   "metadata": {},
   "outputs": [],
   "source": [
    "data_with_satisfaction = calculate_satisfaction_score(xdr_data)\n"
   ]
  },
  {
   "cell_type": "markdown",
   "metadata": {},
   "source": [
    "#### Data with satisfaction score\n"
   ]
  },
  {
   "cell_type": "code",
   "execution_count": 9,
   "metadata": {},
   "outputs": [
    {
     "data": {
      "text/html": [
       "<div>\n",
       "<style scoped>\n",
       "    .dataframe tbody tr th:only-of-type {\n",
       "        vertical-align: middle;\n",
       "    }\n",
       "\n",
       "    .dataframe tbody tr th {\n",
       "        vertical-align: top;\n",
       "    }\n",
       "\n",
       "    .dataframe thead th {\n",
       "        text-align: right;\n",
       "    }\n",
       "</style>\n",
       "<table border=\"1\" class=\"dataframe\">\n",
       "  <thead>\n",
       "    <tr style=\"text-align: right;\">\n",
       "      <th></th>\n",
       "      <th>Bearer Id</th>\n",
       "      <th>Start</th>\n",
       "      <th>Start ms</th>\n",
       "      <th>End</th>\n",
       "      <th>End ms</th>\n",
       "      <th>Dur. (ms)</th>\n",
       "      <th>IMSI</th>\n",
       "      <th>MSISDN/Number</th>\n",
       "      <th>IMEI</th>\n",
       "      <th>Last Location Name</th>\n",
       "      <th>...</th>\n",
       "      <th>Gaming UL (Bytes)</th>\n",
       "      <th>Other DL (Bytes)</th>\n",
       "      <th>Other UL (Bytes)</th>\n",
       "      <th>Total UL (Bytes)</th>\n",
       "      <th>Total DL (Bytes)</th>\n",
       "      <th>Total_DL_+_UL</th>\n",
       "      <th>decile_class</th>\n",
       "      <th>engagement_score</th>\n",
       "      <th>experience_score</th>\n",
       "      <th>satisfaction_score</th>\n",
       "    </tr>\n",
       "  </thead>\n",
       "  <tbody>\n",
       "    <tr>\n",
       "      <th>0</th>\n",
       "      <td>1.311448e+13</td>\n",
       "      <td>4/4/2019 12:01</td>\n",
       "      <td>770.0</td>\n",
       "      <td>4/25/2019 14:35</td>\n",
       "      <td>662.0</td>\n",
       "      <td>244912.0</td>\n",
       "      <td>2.082014e+08</td>\n",
       "      <td>33664.962239</td>\n",
       "      <td>3.552121e+07</td>\n",
       "      <td>9.16456699548519E+015</td>\n",
       "      <td>...</td>\n",
       "      <td>14.344150</td>\n",
       "      <td>171.744450</td>\n",
       "      <td>8.814393</td>\n",
       "      <td>36.749741</td>\n",
       "      <td>308.879636</td>\n",
       "      <td>345.629377</td>\n",
       "      <td>Decile 5</td>\n",
       "      <td>3.590259e+15</td>\n",
       "      <td>7929.929379</td>\n",
       "      <td>1.795129e+15</td>\n",
       "    </tr>\n",
       "    <tr>\n",
       "      <th>1</th>\n",
       "      <td>1.311448e+13</td>\n",
       "      <td>4/9/2019 13:04</td>\n",
       "      <td>235.0</td>\n",
       "      <td>4/25/2019 8:15</td>\n",
       "      <td>606.0</td>\n",
       "      <td>244912.0</td>\n",
       "      <td>2.082019e+08</td>\n",
       "      <td>33681.854413</td>\n",
       "      <td>3.579401e+07</td>\n",
       "      <td>L77566A</td>\n",
       "      <td>...</td>\n",
       "      <td>1.170709</td>\n",
       "      <td>526.904238</td>\n",
       "      <td>15.055145</td>\n",
       "      <td>53.800391</td>\n",
       "      <td>653.384965</td>\n",
       "      <td>707.185356</td>\n",
       "      <td>Decile 5</td>\n",
       "      <td>3.590259e+15</td>\n",
       "      <td>7941.136944</td>\n",
       "      <td>1.795129e+15</td>\n",
       "    </tr>\n",
       "    <tr>\n",
       "      <th>2</th>\n",
       "      <td>1.311448e+13</td>\n",
       "      <td>4/9/2019 17:42</td>\n",
       "      <td>1.0</td>\n",
       "      <td>4/25/2019 11:58</td>\n",
       "      <td>652.0</td>\n",
       "      <td>244912.0</td>\n",
       "      <td>2.082008e+08</td>\n",
       "      <td>33734.564203</td>\n",
       "      <td>3.528151e+07</td>\n",
       "      <td>D42335A</td>\n",
       "      <td>...</td>\n",
       "      <td>0.395630</td>\n",
       "      <td>410.692588</td>\n",
       "      <td>4.215763</td>\n",
       "      <td>27.883638</td>\n",
       "      <td>279.807335</td>\n",
       "      <td>307.690973</td>\n",
       "      <td>Decile 5</td>\n",
       "      <td>3.590259e+15</td>\n",
       "      <td>7954.950660</td>\n",
       "      <td>1.795129e+15</td>\n",
       "    </tr>\n",
       "    <tr>\n",
       "      <th>3</th>\n",
       "      <td>1.311448e+13</td>\n",
       "      <td>4/10/2019 0:31</td>\n",
       "      <td>486.0</td>\n",
       "      <td>4/25/2019 7:36</td>\n",
       "      <td>171.0</td>\n",
       "      <td>244912.0</td>\n",
       "      <td>2.082014e+08</td>\n",
       "      <td>33734.564203</td>\n",
       "      <td>3.535661e+07</td>\n",
       "      <td>T21824A</td>\n",
       "      <td>...</td>\n",
       "      <td>10.849722</td>\n",
       "      <td>749.039933</td>\n",
       "      <td>12.797283</td>\n",
       "      <td>43.324218</td>\n",
       "      <td>846.028530</td>\n",
       "      <td>889.352748</td>\n",
       "      <td>Decile 5</td>\n",
       "      <td>3.590259e+15</td>\n",
       "      <td>7909.076621</td>\n",
       "      <td>1.795129e+15</td>\n",
       "    </tr>\n",
       "    <tr>\n",
       "      <th>4</th>\n",
       "      <td>1.311448e+13</td>\n",
       "      <td>4/12/2019 20:10</td>\n",
       "      <td>565.0</td>\n",
       "      <td>4/25/2019 10:40</td>\n",
       "      <td>954.0</td>\n",
       "      <td>244912.0</td>\n",
       "      <td>2.082014e+08</td>\n",
       "      <td>33699.795932</td>\n",
       "      <td>3.540701e+07</td>\n",
       "      <td>D88865A</td>\n",
       "      <td>...</td>\n",
       "      <td>3.529801</td>\n",
       "      <td>550.709500</td>\n",
       "      <td>13.910322</td>\n",
       "      <td>38.542814</td>\n",
       "      <td>569.138589</td>\n",
       "      <td>607.681403</td>\n",
       "      <td>Decile 5</td>\n",
       "      <td>3.590259e+15</td>\n",
       "      <td>7954.950660</td>\n",
       "      <td>1.795129e+15</td>\n",
       "    </tr>\n",
       "  </tbody>\n",
       "</table>\n",
       "<p>5 rows × 60 columns</p>\n",
       "</div>"
      ],
      "text/plain": [
       "      Bearer Id            Start  Start ms              End  End ms  \\\n",
       "0  1.311448e+13   4/4/2019 12:01     770.0  4/25/2019 14:35   662.0   \n",
       "1  1.311448e+13   4/9/2019 13:04     235.0   4/25/2019 8:15   606.0   \n",
       "2  1.311448e+13   4/9/2019 17:42       1.0  4/25/2019 11:58   652.0   \n",
       "3  1.311448e+13   4/10/2019 0:31     486.0   4/25/2019 7:36   171.0   \n",
       "4  1.311448e+13  4/12/2019 20:10     565.0  4/25/2019 10:40   954.0   \n",
       "\n",
       "   Dur. (ms)          IMSI  MSISDN/Number          IMEI  \\\n",
       "0   244912.0  2.082014e+08   33664.962239  3.552121e+07   \n",
       "1   244912.0  2.082019e+08   33681.854413  3.579401e+07   \n",
       "2   244912.0  2.082008e+08   33734.564203  3.528151e+07   \n",
       "3   244912.0  2.082014e+08   33734.564203  3.535661e+07   \n",
       "4   244912.0  2.082014e+08   33699.795932  3.540701e+07   \n",
       "\n",
       "      Last Location Name  ...  Gaming UL (Bytes)  Other DL (Bytes)  \\\n",
       "0  9.16456699548519E+015  ...          14.344150        171.744450   \n",
       "1                L77566A  ...           1.170709        526.904238   \n",
       "2                D42335A  ...           0.395630        410.692588   \n",
       "3                T21824A  ...          10.849722        749.039933   \n",
       "4                D88865A  ...           3.529801        550.709500   \n",
       "\n",
       "   Other UL (Bytes)  Total UL (Bytes)  Total DL (Bytes)  Total_DL_+_UL  \\\n",
       "0          8.814393         36.749741        308.879636     345.629377   \n",
       "1         15.055145         53.800391        653.384965     707.185356   \n",
       "2          4.215763         27.883638        279.807335     307.690973   \n",
       "3         12.797283         43.324218        846.028530     889.352748   \n",
       "4         13.910322         38.542814        569.138589     607.681403   \n",
       "\n",
       "   decile_class  engagement_score  experience_score  satisfaction_score  \n",
       "0      Decile 5      3.590259e+15       7929.929379        1.795129e+15  \n",
       "1      Decile 5      3.590259e+15       7941.136944        1.795129e+15  \n",
       "2      Decile 5      3.590259e+15       7954.950660        1.795129e+15  \n",
       "3      Decile 5      3.590259e+15       7909.076621        1.795129e+15  \n",
       "4      Decile 5      3.590259e+15       7954.950660        1.795129e+15  \n",
       "\n",
       "[5 rows x 60 columns]"
      ]
     },
     "execution_count": 9,
     "metadata": {},
     "output_type": "execute_result"
    }
   ],
   "source": [
    "data_with_satisfaction.head()\n"
   ]
  },
  {
   "cell_type": "markdown",
   "metadata": {},
   "source": [
    "#### Top ten satisfied customers\n"
   ]
  },
  {
   "cell_type": "code",
   "execution_count": 10,
   "metadata": {},
   "outputs": [
    {
     "name": "stdout",
     "output_type": "stream",
     "text": [
      "Top 10 satisfied customers:\n",
      "10706    33608.645229\n",
      "98269    33659.051810\n",
      "96839    33664.628099\n",
      "15700    33659.840148\n",
      "96052    33659.926667\n",
      "4532     33641.760778\n",
      "5624     33637.716884\n",
      "21129    33667.880323\n",
      "13065    33613.821603\n",
      "22071    33661.390606\n",
      "Name: MSISDN/Number, dtype: float64\n"
     ]
    }
   ],
   "source": [
    "top_satisfied_customers = find_top_satisfied_customers(data_with_satisfaction, 10)\n",
    "\n",
    "print(\"Top 10 satisfied customers:\")\n",
    "print(top_satisfied_customers)"
   ]
  },
  {
   "cell_type": "markdown",
   "metadata": {},
   "source": [
    "#### Build a regression model to predict customer satisfaction scores based on engagement and experience"
   ]
  },
  {
   "cell_type": "code",
   "execution_count": 11,
   "metadata": {},
   "outputs": [],
   "source": [
    "from scripts.tellcoAnalysis import build_regression_model\n"
   ]
  },
  {
   "cell_type": "code",
   "execution_count": null,
   "metadata": {},
   "outputs": [],
   "source": []
  }
 ],
 "metadata": {
  "kernelspec": {
   "display_name": ".venv",
   "language": "python",
   "name": "python3"
  },
  "language_info": {
   "codemirror_mode": {
    "name": "ipython",
    "version": 3
   },
   "file_extension": ".py",
   "mimetype": "text/x-python",
   "name": "python",
   "nbconvert_exporter": "python",
   "pygments_lexer": "ipython3",
   "version": "3.12.2"
  }
 },
 "nbformat": 4,
 "nbformat_minor": 2
}
